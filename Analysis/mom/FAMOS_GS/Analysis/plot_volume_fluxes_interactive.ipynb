{
 "cells": [
  {
   "cell_type": "code",
   "execution_count": 1,
   "metadata": {},
   "outputs": [
    {
     "data": {
      "text/html": [
       "<script>requirejs.config({paths: { 'plotly': ['https://cdn.plot.ly/plotly-latest.min']},});if(!window.Plotly) {{require(['plotly'],function(plotly) {window.Plotly=plotly;});}}</script>"
      ],
      "text/vnd.plotly.v1+html": [
       "<script>requirejs.config({paths: { 'plotly': ['https://cdn.plot.ly/plotly-latest.min']},});if(!window.Plotly) {{require(['plotly'],function(plotly) {window.Plotly=plotly;});}}</script>"
      ]
     },
     "metadata": {},
     "output_type": "display_data"
    }
   ],
   "source": [
    "%matplotlib notebook\n",
    "import xarray as xr\n",
    "import matplotlib.pyplot as plt\n",
    "import numpy as np\n",
    "import pandas as pd\n",
    "import plotly as py\n",
    "import plotly.graph_objs as go\n",
    "import ipywidgets as widgets\n",
    "\n",
    "py.offline.init_notebook_mode(connected=True)"
   ]
  },
  {
   "cell_type": "code",
   "execution_count": 67,
   "metadata": {
    "collapsed": true
   },
   "outputs": [],
   "source": [
    "fname0 = '../../../../../Analysis/mom/FAMOS_GS/Analysis/data/ITU-MOM/ITU-MOM_GSexps_1980_2009.nc'\n",
    "ds0 = xr.open_mfdataset(fname0)\n",
    "\n",
    "fname1 = '../../../../../Analysis/mom/FAMOS_GS/Analysis/data/MITB500/MIT_MITB500_1980_2009.nc'\n",
    "ds1 = xr.open_mfdataset(fname1)\n",
    "\n",
    "fname2 = '../../../../../Analysis/mom/FAMOS_GS/Analysis/data/Brest/Brest_GSexps_1980_2009.nc'\n",
    "ds2 = xr.open_mfdataset(fname2)\n",
    "\n",
    "fname3 = '../../../../../Analysis/mom/FAMOS_GS/Analysis/data/NorESM/NorESM_GS_experiments_1980_2009.nc'\n",
    "ds3 = xr.open_mfdataset(fname3)\n",
    "\n",
    "fname4 = '../../../../../Analysis/mom/FAMOS_GS/Analysis/data/FESOM/FESOM_GS_exps_1980_2009.nc'\n",
    "ds4 = xr.open_mfdataset(fname4)"
   ]
  },
  {
   "cell_type": "code",
   "execution_count": 68,
   "metadata": {
    "collapsed": true
   },
   "outputs": [],
   "source": [
    "dates0 = pd.date_range('1980-01', freq='M', periods=12*29)\n",
    "ds0['time'] = dates0\n",
    "ds1['time'] = dates0\n",
    "ds2['time'] = dates0\n",
    "ds3['time'] = dates0\n",
    "ds4['time'] = dates0"
   ]
  },
  {
   "cell_type": "code",
   "execution_count": 70,
   "metadata": {},
   "outputs": [
    {
     "data": {
      "application/vnd.jupyter.widget-view+json": {
       "model_id": "dcdf8a57f4284e2296e363f9f85b3998"
      }
     },
     "metadata": {},
     "output_type": "display_data"
    }
   ],
   "source": [
    "\"\"\" Plot annual mean of volume fluxes anomaly\"\"\"\n",
    "modelnames = ['ITU' , 'MITB500', 'Brest', 'NorESM', 'FESOM']\n",
    "colors = ['blue', 'darkorange', 'red', 'green', 'cyan']\n",
    "# names of the control, gsp and gsn variables [total]\n",
    "ctln = ['ctlbarents_volumetotal', 'barvt_c[0]', 'BSOrefvolume', 'vt_NorESM_BSO_ctrl', 'ctlvoltransp_BSO']\n",
    "gspn = ['gspbarents_volumetotal', 'barvt_gsp[0]', 'BSOgspvolume', 'vt_NorESM_BSO_gsp', 'gspvoltransp_BSO']\n",
    "gsnn = ['gsnbarents_volumetotal', 'barvt_gsm[0]', 'BSOgsnvolume', 'vt_NorESM_BSO_gsn', 'gsnvoltransp_BSO']\n",
    "\n",
    "coeffs = [1, 1e-6, 1, 1, 1]\n",
    "\n",
    "layout = go.Layout(\n",
    "    title='<b>Annual Volume Transport Anomaly</b>',\n",
    "    yaxis=dict(\n",
    "        title='Transport [Sv]',\n",
    "        #range=[-14, 14]\n",
    "    ),\n",
    "    xaxis=dict(\n",
    "        title='year'\n",
    "    )\n",
    ")    \n",
    "\n",
    "\n",
    "def update_plot(models):\n",
    "    \n",
    "    datap = []\n",
    "    datan = []\n",
    "    for ind,mdl in enumerate(models):\n",
    "        dnm = 'ds'+np.str(ind)+'.'+ctln[ind]+'.groupby(\\'time.year\\').mean().year'\n",
    "        time = np.copy(eval(dnm))\n",
    "        dnm = 'ds'+np.str(ind)+'.'+ctln[ind]+'.groupby(\\'time.year\\').mean()'\n",
    "        dnm2 = 'ds'+np.str(ind)+'.'+gspn[ind]+'.groupby(\\'time.year\\').mean()'\n",
    "        dnm3 = 'ds'+np.str(ind)+'.'+gsnn[ind]+'.groupby(\\'time.year\\').mean()'\n",
    "        val1 = np.copy(eval(dnm2)-eval(dnm))*coeffs[ind]\n",
    "        val2 = np.copy(eval(dnm3)-eval(dnm))*coeffs[ind]\n",
    "        trace1 = go.Scatter(            \n",
    "            x = time,\n",
    "            y = val1,\n",
    "            mode = 'lines',\n",
    "            name = mdl+'-GSP',\n",
    "            line = dict(\n",
    "                width = 2,\n",
    "                color = colors[ind],\n",
    "                shape = 'smooth'\n",
    "            )\n",
    "        )\n",
    "        datap.append(trace1)\n",
    "        trace2 = go.Scatter(            \n",
    "            x = time,\n",
    "            y = val2,\n",
    "            mode = 'lines',\n",
    "            name = mdl+'-GSM',\n",
    "            line = dict(\n",
    "                width = 2,\n",
    "                color = colors[ind],\n",
    "                dash = 'dash',\n",
    "                shape = 'smooth'\n",
    "            )\n",
    "        )\n",
    "        datan.append(trace2)\n",
    "\n",
    "\n",
    "   \n",
    "    data = datap + datan\n",
    "    \n",
    "    fig = go.Figure(data=data, layout=layout)\n",
    "    py.offline.iplot(fig)\n",
    "    \n",
    "models = widgets.SelectMultiple(options=list(modelnames), value=modelnames, description='Models')    \n",
    "\n",
    "widgets.interactive(update_plot,models=models)"
   ]
  },
  {
   "cell_type": "code",
   "execution_count": 71,
   "metadata": {},
   "outputs": [
    {
     "data": {
      "application/vnd.jupyter.widget-view+json": {
       "model_id": "feb48aa6d7744090abd15f8d780852ec"
      }
     },
     "metadata": {},
     "output_type": "display_data"
    }
   ],
   "source": [
    "\"\"\" Plot seasonal mean of volume fluxes anomaly\"\"\"\n",
    "modelnames = ['ITU' , 'MITB500', 'Brest', 'NorESM', 'FESOM']\n",
    "colors = ['blue', 'darkorange', 'red', 'green', 'cyan']\n",
    "\n",
    "# names of the control, gsp and gsn variables [total]\n",
    "ctln = ['ctlbarents_volumetotal', 'barvt_c[0]', 'BSOrefvolume', 'vt_NorESM_BSO_ctrl', 'ctlvoltransp_BSO']\n",
    "gspn = ['gspbarents_volumetotal', 'barvt_gsp[0]', 'BSOgspvolume', 'vt_NorESM_BSO_gsp', 'gspvoltransp_BSO']\n",
    "gsnn = ['gsnbarents_volumetotal', 'barvt_gsm[0]', 'BSOgsnvolume', 'vt_NorESM_BSO_gsn', 'gsnvoltransp_BSO']\n",
    "\n",
    "coeffs = [1, 1e-6, 1, 1, 1]\n",
    "\n",
    "layout = go.Layout(\n",
    "    title='<b>Monthly Volume Transport Anomaly</b>',\n",
    "    yaxis=dict(\n",
    "        title='Transport [Sv]',\n",
    "        #range=[-14, 14]\n",
    "    ),\n",
    "    xaxis=dict(\n",
    "        title='month'\n",
    "    )\n",
    ")    \n",
    "\n",
    "\n",
    "def update_plot(models):\n",
    "    \n",
    "    datap = []\n",
    "    datan = []\n",
    "    for ind,mdl in enumerate(models):\n",
    "        dnm = 'ds'+np.str(ind)+'.'+ctln[ind]+'.groupby(\\'time.month\\').mean().month'\n",
    "        time = np.copy(eval(dnm))\n",
    "        dnm = 'ds'+np.str(ind)+'.'+ctln[ind]+'.groupby(\\'time.month\\').mean()'\n",
    "        dnm2 = 'ds'+np.str(ind)+'.'+gspn[ind]+'.groupby(\\'time.month\\').mean()'\n",
    "        dnm3 = 'ds'+np.str(ind)+'.'+gsnn[ind]+'.groupby(\\'time.month\\').mean()'\n",
    "        val1 = np.copy(eval(dnm2)-eval(dnm))*coeffs[ind]\n",
    "        val2 = np.copy(eval(dnm3)-eval(dnm))*coeffs[ind]\n",
    "        trace1 = go.Scatter(            \n",
    "            x = time,\n",
    "            y = val1,\n",
    "            mode = 'lines',\n",
    "            name = mdl+'-GSP',        \n",
    "            line = dict(\n",
    "                width = 2,\n",
    "                color = colors[ind],\n",
    "                shape = 'smooth'\n",
    "            )\n",
    "        )\n",
    "        datap.append(trace1)\n",
    "        trace2 = go.Scatter(            \n",
    "            x = time,\n",
    "            y = val2,\n",
    "            mode = 'lines',\n",
    "            name = mdl+'-GSM',            \n",
    "            line = dict(\n",
    "                width = 2,\n",
    "                color = colors[ind],\n",
    "                dash = 'dash',\n",
    "                shape = 'smooth'\n",
    "            )\n",
    "        )\n",
    "        datan.append(trace2)\n",
    "\n",
    "\n",
    "   \n",
    "    data = datap + datan\n",
    "    \n",
    "    fig = go.Figure(data=data, layout=layout)\n",
    "    py.offline.iplot(fig)\n",
    "    \n",
    "models = widgets.SelectMultiple(options=list(modelnames), value=modelnames, description='Models')    \n",
    "\n",
    "widgets.interactive(update_plot,models=models)"
   ]
  },
  {
   "cell_type": "code",
   "execution_count": null,
   "metadata": {
    "collapsed": true
   },
   "outputs": [],
   "source": []
  }
 ],
 "metadata": {
  "kernelspec": {
   "display_name": "Python 2",
   "language": "python",
   "name": "python2"
  },
  "language_info": {
   "codemirror_mode": {
    "name": "ipython",
    "version": 2
   },
   "file_extension": ".py",
   "mimetype": "text/x-python",
   "name": "python",
   "nbconvert_exporter": "python",
   "pygments_lexer": "ipython2",
   "version": "2.7.14"
  }
 },
 "nbformat": 4,
 "nbformat_minor": 2
}
